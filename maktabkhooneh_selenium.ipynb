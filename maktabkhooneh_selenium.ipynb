{
 "cells": [
  {
   "cell_type": "code",
   "execution_count": 1,
   "metadata": {},
   "outputs": [],
   "source": [
    "from selenium import webdriver\n",
    "import time"
   ]
  },
  {
   "cell_type": "code",
   "execution_count": 2,
   "metadata": {},
   "outputs": [],
   "source": [
    "chrome = webdriver.Chrome()\n",
    "chrome.set_page_load_timeout(10)"
   ]
  },
  {
   "cell_type": "code",
   "execution_count": 3,
   "metadata": {},
   "outputs": [],
   "source": [
    "try:\n",
    "    chrome.get(\"https://maktabkhooneh.org\")\n",
    "except:\n",
    "    pass"
   ]
  },
  {
   "cell_type": "code",
   "execution_count": 4,
   "metadata": {},
   "outputs": [],
   "source": [
    "chrome.find_element_by_id('show_login').click()\n",
    "time.sleep(.1)\n",
    "email = chrome.find_element_by_id('login-email')\n",
    "password = chrome.find_element_by_id('login-pass')\n",
    "submit = chrome.find_element_by_id('signin-submit')\n",
    "time.sleep(.5)"
   ]
  },
  {
   "cell_type": "code",
   "execution_count": 5,
   "metadata": {},
   "outputs": [],
   "source": [
    "user = {'email': '<YOUR_EMAIL>','password': '<YOUR_PASSWORD>'}\n",
    "email.send_keys(user['email'])\n",
    "password.send_keys(user['password'])\n",
    "submit.click()\n",
    "time.sleep(1)"
   ]
  },
  {
   "cell_type": "code",
   "execution_count": 6,
   "metadata": {},
   "outputs": [],
   "source": [
    "course_link = \"https://maktabkhooneh.org/course/171/\" # COURSE_LINK"
   ]
  },
  {
   "cell_type": "code",
   "execution_count": 7,
   "metadata": {},
   "outputs": [],
   "source": [
    "try:\n",
    "    chrome.get(course_link)\n",
    "except:\n",
    "    pass\n",
    "\n",
    "courses = chrome.find_elements_by_class_name('lesson-links')\n",
    "courses = list(map(lambda x:x.get_attribute('href'),courses))"
   ]
  },
  {
   "cell_type": "code",
   "execution_count": 8,
   "metadata": {},
   "outputs": [
    {
     "name": "stdout",
     "output_type": "stream",
     "text": [
      "https://box.maktabkhooneh.org/videos/hq857949550531.mp4?name=pourzaferani410_1_1_hq.mp4\n",
      "https://box.maktabkhooneh.org/videos/hq51137464734.mp4?name=pourzaferani410_1_2_hq.mp4\n",
      "https://box.maktabkhooneh.org/videos/hq403230765841.mp4?name=pourzaferani410_1_3_hq.mp4\n",
      "https://box.maktabkhooneh.org/videos/hq249323440509.mp4?name=pourzaferani410_1_4_hq.mp4\n",
      "https://box.maktabkhooneh.org/videos/hq0353293429595.mp4?name=pourzaferani410_1_5_hq.mp4\n",
      "https://box.maktabkhooneh.org/videos/hq222000035204.mp4?name=pourzaferani410_1_6_hq.mp4\n",
      "https://box.maktabkhooneh.org/videos/hq190976487826.mp4?name=pourzaferani410_1_7_hq.mp4\n",
      "https://box.maktabkhooneh.org/videos/hq611514831618.mp4?name=pourzaferani410_1_8_hq.mp4\n",
      "https://box.maktabkhooneh.org/videos/hq775011263518.mp4?name=pourzaferani410_1_9_hq.mp4\n",
      "https://box.maktabkhooneh.org/videos/hq851308711055.mp4?name=pourzaferani410_1_10_hq.mp4\n",
      "https://box.maktabkhooneh.org/videos/hq380300780156.mp4?name=pourzaferani410_1_11_hq.mp4\n",
      "https://box.maktabkhooneh.org/videos/hq620277875332.mp4?name=pourzaferani410_1_12_hq.mp4\n",
      "https://box.maktabkhooneh.org/videos/hq910198666006.mp4?name=pourzaferani410_1_13_hq.mp4\n",
      "https://box.maktabkhooneh.org/videos/hq498772638297.mp4?name=pourzaferani410_1_14_hq.mp4\n",
      "https://box.maktabkhooneh.org/videos/hq474578525863.mp4?name=pourzaferani410_1_15_hq.mp4\n",
      "https://box.maktabkhooneh.org/videos/hq244844375929.mp4?name=pourzaferani410_1_16_hq.mp4\n",
      "https://box.maktabkhooneh.org/videos/hq4927836548.mp4?name=pourzaferani410_1_17_hq.mp4\n",
      "https://box.maktabkhooneh.org/videos/hq531083936032.mp4?name=pourzaferani410_1_18_hq.mp4\n",
      "https://box.maktabkhooneh.org/videos/hq378956300427.mp4?name=pourzaferani410_1_19_hq.mp4\n",
      "https://box.maktabkhooneh.org/videos/hq651103216591.mp4?name=pourzaferani410_1_20_hq.mp4\n",
      "https://box.maktabkhooneh.org/videos/hq832073631152.mp4?name=pourzaferani410_1_21_hq.mp4\n",
      "https://box.maktabkhooneh.org/videos/hq372860563198.mp4?name=pourzaferani410_1_22_hq.mp4\n",
      "https://box.maktabkhooneh.org/videos/hq0991954285333.mp4?name=pourzaferani410_1_23_hq.mp4\n",
      "https://box.maktabkhooneh.org/videos/hq839936971386.mp4?name=pourzaferani410_1_24_hq.mp4\n"
     ]
    }
   ],
   "source": [
    "for course in courses:\n",
    "    try:\n",
    "        chrome.get(course)\n",
    "    except:\n",
    "        pass\n",
    "    dl_link = chrome.find_element_by_class_name('hq-video-dl')\n",
    "    dl_link = dl_link.get_attribute('href')\n",
    "    print(dl_link)\n",
    "chrome.find_element_by_id('logout').click()\n",
    "chrome.close()"
   ]
  }
 ],
 "metadata": {
  "kernelspec": {
   "display_name": "Python 3",
   "language": "python",
   "name": "python3"
  },
  "language_info": {
   "codemirror_mode": {
    "name": "ipython",
    "version": 3
   },
   "file_extension": ".py",
   "mimetype": "text/x-python",
   "name": "python",
   "nbconvert_exporter": "python",
   "pygments_lexer": "ipython3",
   "version": "3.6.6"
  }
 },
 "nbformat": 4,
 "nbformat_minor": 2
}
